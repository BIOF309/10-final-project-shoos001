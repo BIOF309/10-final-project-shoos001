{
 "cells": [
  {
   "cell_type": "markdown",
   "metadata": {},
   "source": [
    "# Analysis of the percentage of the Protein-coding Genes and Pseudogenes Coverage in Each Strand of E. coli                            \n",
    "                            Final Project\n",
    "                 BIOF309 – Introduction to Python Programming\n",
    "\n",
    "The E. coli chromosome is a circular double-stranded DNA, 4.6 × 106 in length.\n",
    "Protein-coding genes carry genetic information that have the ability to code for a protein.\n",
    "Pseudogenes are genomic DNA sequences similar to normal genes but they have lost their protein-coding ability. \n",
    "\n",
    "\n",
    "The identification of pseudogenes is a very important step for:  \n",
    "\n",
    "* the accurate identification and annotation of the functional genes \n",
    "* the evolutionary analysis of genomes and functional genes \n",
    "* the determination of the function of the pseudogenes \n",
    "\n",
    "\n",
    "\n",
    "# Reseach questin\n",
    "\n",
    "1) What are the Percentage of protein-coding and pseudo-gene coverage on the positive (sense) and the negative (antisense) strands in Escherichia coli?\n",
    "\n",
    "\n",
    "# Source data sets \n",
    "\n",
    "The publicly available data that were used in this project were downloaded from the NCBI (https://www.ncbi.nlm.nih.gov/nuccore/CP014225.1) and included the complete genome of Escherichia coli str. K-12 substr. MG1655, complete genome."
   ]
  },
  {
   "cell_type": "code",
   "execution_count": 74,
   "metadata": {
    "collapsed": true
   },
   "outputs": [],
   "source": [
    "# Importing packages I plan on using\n",
    "import csv \n",
    "import numpy as np\n",
    "import matplotlib \n",
    "# matplotlib.use('Agg')\n",
    "import matplotlib.pyplot as plt\n",
    "# shows images in notebook\n",
    "%matplotlib inline "
   ]
  },
  {
   "cell_type": "markdown",
   "metadata": {},
   "source": [
    "# The Data"
   ]
  },
  {
   "cell_type": "code",
   "execution_count": 75,
   "metadata": {},
   "outputs": [
    {
     "data": {
      "text/html": [
       "<div>\n",
       "<style>\n",
       "    .dataframe thead tr:only-child th {\n",
       "        text-align: right;\n",
       "    }\n",
       "\n",
       "    .dataframe thead th {\n",
       "        text-align: left;\n",
       "    }\n",
       "\n",
       "    .dataframe tbody tr th {\n",
       "        vertical-align: top;\n",
       "    }\n",
       "</style>\n",
       "<table border=\"1\" class=\"dataframe\">\n",
       "  <thead>\n",
       "    <tr style=\"text-align: right;\">\n",
       "      <th></th>\n",
       "      <th>0</th>\n",
       "      <th>1</th>\n",
       "      <th>2</th>\n",
       "      <th>3</th>\n",
       "      <th>4</th>\n",
       "      <th>5</th>\n",
       "      <th>6</th>\n",
       "      <th>7</th>\n",
       "      <th>8</th>\n",
       "    </tr>\n",
       "  </thead>\n",
       "  <tbody>\n",
       "    <tr>\n",
       "      <th>0</th>\n",
       "      <td>CP014225.1</td>\n",
       "      <td>Genbank</td>\n",
       "      <td>region</td>\n",
       "      <td>1</td>\n",
       "      <td>4659625</td>\n",
       "      <td>.</td>\n",
       "      <td>+</td>\n",
       "      <td>.</td>\n",
       "      <td>ID=id0;Dbxref=taxon:511145;Is_circular=true;Na...</td>\n",
       "    </tr>\n",
       "    <tr>\n",
       "      <th>1</th>\n",
       "      <td>CP014225.1</td>\n",
       "      <td>Genbank</td>\n",
       "      <td>pseudogene</td>\n",
       "      <td>1</td>\n",
       "      <td>1308</td>\n",
       "      <td>.</td>\n",
       "      <td>+</td>\n",
       "      <td>.</td>\n",
       "      <td>ID=gene0;Name=AW869_00010;gbkey=Gene;gene_biot...</td>\n",
       "    </tr>\n",
       "    <tr>\n",
       "      <th>2</th>\n",
       "      <td>CP014225.1</td>\n",
       "      <td>Protein Homology</td>\n",
       "      <td>CDS</td>\n",
       "      <td>1</td>\n",
       "      <td>1308</td>\n",
       "      <td>.</td>\n",
       "      <td>+</td>\n",
       "      <td>0</td>\n",
       "      <td>ID=cds0;Parent=gene0;Note=frameshifted%3B inco...</td>\n",
       "    </tr>\n",
       "    <tr>\n",
       "      <th>3</th>\n",
       "      <td>CP014225.1</td>\n",
       "      <td>Genbank</td>\n",
       "      <td>gene</td>\n",
       "      <td>1586</td>\n",
       "      <td>1693</td>\n",
       "      <td>.</td>\n",
       "      <td>+</td>\n",
       "      <td>.</td>\n",
       "      <td>ID=gene1;Name=AW869_00015;gbkey=Gene;gene_biot...</td>\n",
       "    </tr>\n",
       "    <tr>\n",
       "      <th>4</th>\n",
       "      <td>CP014225.1</td>\n",
       "      <td>Protein Homology</td>\n",
       "      <td>CDS</td>\n",
       "      <td>1586</td>\n",
       "      <td>1693</td>\n",
       "      <td>.</td>\n",
       "      <td>+</td>\n",
       "      <td>0</td>\n",
       "      <td>ID=cds1;Parent=gene1;Dbxref=NCBI_GP:AMC94701.1...</td>\n",
       "    </tr>\n",
       "  </tbody>\n",
       "</table>\n",
       "</div>"
      ],
      "text/plain": [
       "            0                 1           2     3        4  5  6  7  \\\n",
       "0  CP014225.1           Genbank      region     1  4659625  .  +  .   \n",
       "1  CP014225.1           Genbank  pseudogene     1     1308  .  +  .   \n",
       "2  CP014225.1  Protein Homology         CDS     1     1308  .  +  0   \n",
       "3  CP014225.1           Genbank        gene  1586     1693  .  +  .   \n",
       "4  CP014225.1  Protein Homology         CDS  1586     1693  .  +  0   \n",
       "\n",
       "                                                   8  \n",
       "0  ID=id0;Dbxref=taxon:511145;Is_circular=true;Na...  \n",
       "1  ID=gene0;Name=AW869_00010;gbkey=Gene;gene_biot...  \n",
       "2  ID=cds0;Parent=gene0;Note=frameshifted%3B inco...  \n",
       "3  ID=gene1;Name=AW869_00015;gbkey=Gene;gene_biot...  \n",
       "4  ID=cds1;Parent=gene1;Dbxref=NCBI_GP:AMC94701.1...  "
      ]
     },
     "execution_count": 75,
     "metadata": {},
     "output_type": "execute_result"
    }
   ],
   "source": [
    "import pandas as pd\n",
    "df = pd.read_csv('sequence.gff3.csv', header=None)\n",
    "df.head()"
   ]
  },
  {
   "cell_type": "markdown",
   "metadata": {},
   "source": [
    "# Provide a detailed description of the E. coli dataset:"
   ]
  },
  {
   "cell_type": "code",
   "execution_count": 2,
   "metadata": {},
   "outputs": [
    {
     "name": "stdout",
     "output_type": "stream",
     "text": [
      "The filename for E. coli is sequence.gff3.csv\n",
      "The length of E. coli genome is 4659625\n"
     ]
    }
   ],
   "source": [
    " \n",
    "# inputting the length of e. coli\n",
    "inputfile ='sequence.gff3.csv'\n",
    "Length = 4659625\n",
    "\n",
    "#Calculate coding gene coverage on e.coli\n",
    "print(\"The filename for E. coli is \" + inputfile)\n",
    "print(\"The length of E. coli genome is \" + str(Length))"
   ]
  },
  {
   "cell_type": "code",
   "execution_count": 10,
   "metadata": {
    "collapsed": true
   },
   "outputs": [],
   "source": [
    "# open and read the .gff3 file, delimited with \",\"\n",
    "# formatted for gff3 file and select necessary columns\n",
    "\n",
    "col_num_source = 1 # indicates the source of DNA sequence information\n",
    "col_num_start = 3 # indicates the start position of a gene\n",
    "col_num_end = 4 # indicates the end position of a gene\n",
    "col_num_strand = 6 # indicates the location of the genes on the sense(+) or antisense(-) strands.\n",
    "col_num_desc = 8 # provides additional information about the gene\n",
    "cols_cellformat = [] # all selected columns are stored in 'cols_cellformat'\n",
    "\n",
    "f = open( inputfile, 'r' ) # open the file in read format\n",
    "for line in f:\n",
    "    cells = line.split( \",\" ) \n",
    "    cols_cellformat.append( ( cells[ col_num_start ], \n",
    "                             cells[ col_num_end ], \n",
    "                             cells[ col_num_strand ] , \n",
    "                             cells [ col_num_desc ], \n",
    "                             cells [ col_num_source ] ) ) \n"
   ]
  },
  {
   "cell_type": "code",
   "execution_count": 11,
   "metadata": {
    "collapsed": true
   },
   "outputs": [],
   "source": [
    "# Data type conversion\n",
    "import numpy as np\n",
    "\n",
    "cols = np.asarray(cols_cellformat) # convert cell to array. Store the result in a new variable, cols.\n",
    "start_end = cols[:,0:2].astype(int) # select the start and end positions from 'cols' and save as integers.\n",
    "strand_is_forward = cols[:,2] == '+' # select (+/-) strands and convert to Boolean. (+) strand == True \n",
    "description = cols[:,3] # select gene description from 'cols'\n",
    "is_homology = cols[:,4] == 'Protein Homology' # select the source of DNA sequence information and convert to Boolean."
   ]
  },
  {
   "cell_type": "code",
   "execution_count": 17,
   "metadata": {},
   "outputs": [
    {
     "name": "stdout",
     "output_type": "stream",
     "text": [
      "The #4th raw of the Dataset contains the following information: \n",
      "Start position of the gene: 1586\n",
      "End position of the gene: 1693\n",
      "Gene is located on forward strand== True\n",
      "DNA sequance are obtained from Genbank== True\n",
      "Gene description: ID=gene1;Name=AW869_00015;gbkey=Gene;gene_biotype=protein_coding;locus_tag=AW869_00015\n",
      "\n"
     ]
    }
   ],
   "source": [
    "# An example of getting information from the specific raw in dataset\n",
    "\n",
    "\n",
    "rowNumber = 4 # an example of a gene information\n",
    "print(\"The #4th raw of the Dataset contains the following information: \")\n",
    "print(\"Start position of the gene: \" + str(start_end[rowNumber-1,0]))\n",
    "print(\"End position of the gene: \" + str(start_end[rowNumber-1,1]))\n",
    "print(\"Gene is located on forward strand== \" + str(strand_is_forward[rowNumber-1]))\n",
    "print(\"DNA sequance are obtained from Genbank== \" + str(not (is_homology[rowNumber-1])))\n",
    "print(\"Gene description: \" + description[rowNumber-1])"
   ]
  },
  {
   "cell_type": "code",
   "execution_count": 21,
   "metadata": {
    "scrolled": true
   },
   "outputs": [
    {
     "name": "stdout",
     "output_type": "stream",
     "text": [
      "The length of E. coli is 4659625\n",
      "Total Genes: 4489\n",
      "98.17331254176877% are genes and 1.8266874582312318% are pseudogenes\n",
      "98% are genes and 2% are pseudogenes\n"
     ]
    }
   ],
   "source": [
    "# coverage and the percentage of genes and pseudogene on each strand\n",
    "\n",
    "pcf = 0 # protein_coding_forward on (+) strand \n",
    "pcr = 0 # protein_coding_reverse on (-) strand\n",
    "psf = 0 # pseudogene_forward on (-) strand \n",
    "psr = 0 # pseudogene_reverse on  (+) strand \n",
    "other = 0\n",
    "\n",
    "for index in range (1,len(description)):\n",
    "\tif  not (is_homology[index]) : # ignoring the entire row in dataset that corresponds to'Protein Homology' \n",
    "\t\tif (\"gene_biotype=protein_coding\" in description[index]) and strand_is_forward[index] :\n",
    "\t\t\tpcf += 1\n",
    "\t\telif (\"gene_biotype=protein_coding\" in description[index]) and not strand_is_forward[index] :\n",
    "\t\t\tpcr += 1 \n",
    "\t\telif (\"gene_biotype=pseudogene\" in description[index]) and strand_is_forward[index] :\n",
    "\t\t\tpsf += 1\n",
    "\t\telif (\"gene_biotype=pseudogene\" in description[index]) and not strand_is_forward[index] :\n",
    "\t\t\tpsr += 1\n",
    "\t\telse :\n",
    "\t\t\tother += 1\n",
    "\n",
    "#Calculate coding gene coverage on e.coli\n",
    "\n",
    "print(\"The length of E. coli is \" + str(Length))\n",
    "\n",
    "total_genes = pcf + pcr + psf + psr    \n",
    "\n",
    "print(\"Total Genes: \"+ str(total_genes))\n",
    "\n",
    "percent_genes = (pcf+pcr)/total_genes*100\n",
    "\n",
    "percent_pseudo = (psf+psr)/total_genes*100\n",
    "\n",
    "print(str(percent_genes) + \"% are genes and \"+str(percent_pseudo)+\"% are pseudogenes\")\n",
    "\n",
    "# Round Percentage Values\n",
    "print(str(round(percent_genes)) + \"% are genes and \"+str(round(percent_pseudo))+\"% are pseudogenes\")"
   ]
  },
  {
   "cell_type": "code",
   "execution_count": 22,
   "metadata": {
    "collapsed": true
   },
   "outputs": [],
   "source": [
    "# variable initialization \n",
    "protein_coding_forward = 0\n",
    "protein_coding_reverse = 0\n",
    "pseudogene_forward = 0\n",
    "pseudogene_reverse = 0\n",
    "other = 0\n",
    "\n",
    "for index in range (1,len(description)):\n",
    "\tif  not is_homology[index] : # ignoring the entire row in dataset that corresponds to'Protein Homology'\n",
    "\t\tif (\"gene_biotype=protein_coding\" in description[index]) and strand_is_forward[index] :\n",
    "\t\t\tprotein_coding_forward += start_end[index,1]-start_end[index,0] \n",
    "\t\telif (\"gene_biotype=protein_coding\" in description[index]) and not strand_is_forward[index] :\n",
    "\t\t\tprotein_coding_reverse += start_end[index,1]-start_end[index,0] \n",
    "\t\telif (\"gene_biotype=pseudogene\" in description[index]) and strand_is_forward[index] :\n",
    "\t\t\tpseudogene_forward += start_end[index,1]-start_end[index,0] \n",
    "\t\telif (\"gene_biotype=pseudogene\" in description[index]) and not strand_is_forward[index] :\n",
    "\t\t\tpseudogene_reverse += start_end[index,1]-start_end[index,0] \n",
    "\t\telse :\n",
    "\t\t\tother += start_end[index,1]-start_end[index,0]"
   ]
  },
  {
   "cell_type": "code",
   "execution_count": 28,
   "metadata": {
    "scrolled": true
   },
   "outputs": [
    {
     "data": {
      "image/png": "[encoded data removed]",
      "text/plain": [
       "<matplotlib.figure.Figure at 0x117351198>"
      ]
     },
     "metadata": {},
     "output_type": "display_data"
    },
    {
     "data": {
      "text/plain": [
       "<matplotlib.figure.Figure at 0x11adf7ef0>"
      ]
     },
     "metadata": {},
     "output_type": "display_data"
    }
   ],
   "source": [
    "#A DNA coverage plot for E. coli \n",
    "import matplotlib.pyplot as plt\n",
    "\n",
    "# shows images in notebook\n",
    "%matplotlib inline \n",
    "\n",
    "labels = 'Protein Coding (+)', 'Protein Coding (-)','Pseudogene (+)','Pseudogene (-)','Other'\n",
    "sizes = [protein_coding_forward,protein_coding_reverse,pseudogene_forward,pseudogene_reverse,other]\n",
    "colors = ['blue', 'lightblue', 'red', 'orange', 'green']\n",
    "explode = (0.1, 0.1, 0.5, 0.7, 0.3)  # explode 1st slice\n",
    "\n",
    "# Plot\n",
    "plt.pie(sizes, explode=explode, labels=labels, colors=colors,\n",
    "        autopct='%1.1f%%', shadow=False, startangle=100)\n",
    "plt.suptitle('E. coli Gene Coverage')\n",
    "plt.axis('equal')\t\n",
    "plt.show()\t\n",
    "plt.savefig('ecoli.png')"
   ]
  }
 ],
 "metadata": {
  "kernelspec": {
   "display_name": "Python 3",
   "language": "python",
   "name": "python3"
  },
  "language_info": {
   "codemirror_mode": {
    "name": "ipython",
    "version": 3
   },
   "file_extension": ".py",
   "mimetype": "text/x-python",
   "name": "python",
   "nbconvert_exporter": "python",
   "pygments_lexer": "ipython3",
   "version": "3.6.1"
  }
 },
 "nbformat": 4,
 "nbformat_minor": 2
}
